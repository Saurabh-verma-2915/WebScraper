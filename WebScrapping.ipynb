{
 "cells": [
  {
   "cell_type": "code",
   "execution_count": 16,
   "id": "26ba1f9b-47ef-44d1-bf1b-82a4d1a657f4",
   "metadata": {},
   "outputs": [
    {
     "name": "stdout",
     "output_type": "stream",
     "text": [
      "Found 0 store links.\n",
      "Empty DataFrame\n",
      "Columns: []\n",
      "Index: []\n"
     ]
    }
   ],
   "source": [
    "import requests\n",
    "from bs4 import BeautifulSoup\n",
    "import pandas as pd\n",
    "import re\n",
    "\n",
    "url = \"https://stores.bestbuy.com/ny/new-york.html\"\n",
    "headers = {\"User-Agent\": \"Mozilla/5.0\"}\n",
    "\n",
    "response = requests.get(url, headers=headers)\n",
    "soup = BeautifulSoup(response.text, 'html.parser')\n",
    "\n",
    "store_links = soup.select('a.LinkOverlay')\n",
    "\n",
    "print(f\"Found {len(store_links)} store links.\")\n",
    "\n",
    "base_url = \"https://stores.bestbuy.com\"\n",
    "\n",
    "store_data = []\n",
    "\n",
    "for link in store_links:\n",
    "    store_name = link.text.strip()\n",
    "    store_url = base_url + link['href']\n",
    "\n",
    "    resp = requests.get(store_url, headers=headers)\n",
    "    store_soup = BeautifulSoup(resp.text, 'html.parser')\n",
    "\n",
    "    address_tag = store_soup.find('address')\n",
    "    address = address_tag.get_text(\" \", strip=True) if address_tag else \"N/A\"\n",
    "\n",
    "    zip_code = re.search(r'\\b\\d{5}\\b', address)\n",
    "    zip_code = zip_code.group(0) if zip_code else \"N/A\"\n",
    "\n",
    "    hours_tag = store_soup.select_one('.WeeklyHours-list')\n",
    "    hours = hours_tag.get_text(\" | \", strip=True) if hours_tag else \"N/A\"\n",
    "\n",
    "    store_data.append({\n",
    "        \"Name\": store_name,\n",
    "        \"Address\": address,\n",
    "        \"Zip Code\": zip_code,\n",
    "        \"Hours\": hours,\n",
    "        \"Store URL\": store_url\n",
    "    })\n",
    "\n",
    "df = pd.DataFrame(store_data)\n",
    "print(df.head())\n"
   ]
  },
  {
   "cell_type": "code",
   "execution_count": 17,
   "id": "ef8b5f72-69f4-435c-b5df-508249b542d5",
   "metadata": {},
   "outputs": [
    {
     "name": "stdout",
     "output_type": "stream",
     "text": [
      "Total 9 headlines saved to 'aajtak_headlines.csv'\n"
     ]
    },
    {
     "data": {
      "text/html": [
       "<div>\n",
       "<style scoped>\n",
       "    .dataframe tbody tr th:only-of-type {\n",
       "        vertical-align: middle;\n",
       "    }\n",
       "\n",
       "    .dataframe tbody tr th {\n",
       "        vertical-align: top;\n",
       "    }\n",
       "\n",
       "    .dataframe thead th {\n",
       "        text-align: right;\n",
       "    }\n",
       "</style>\n",
       "<table border=\"1\" class=\"dataframe\">\n",
       "  <thead>\n",
       "    <tr style=\"text-align: right;\">\n",
       "      <th></th>\n",
       "      <th>Headline</th>\n",
       "    </tr>\n",
       "  </thead>\n",
       "  <tbody>\n",
       "    <tr>\n",
       "      <th>0</th>\n",
       "      <td>बेकाबू भीड़, संकरी सीढ़ियां और आने-जाने का एक ...</td>\n",
       "    </tr>\n",
       "    <tr>\n",
       "      <th>1</th>\n",
       "      <td>यूक्रेन में रूस ने गिराया 'महाबम', पश्चिमी देश...</td>\n",
       "    </tr>\n",
       "    <tr>\n",
       "      <th>2</th>\n",
       "      <td>जगदीप धनखड़ ने उपराष्ट्रपति पद से क्यों दिया इ...</td>\n",
       "    </tr>\n",
       "    <tr>\n",
       "      <th>3</th>\n",
       "      <td>'महुआ से निर्दलीय लड़ेंगे चुनाव', तेज प्रताप क...</td>\n",
       "    </tr>\n",
       "    <tr>\n",
       "      <th>4</th>\n",
       "      <td>बच्चे के अंतिम संस्कार में टायरों का इस्तेमाल,...</td>\n",
       "    </tr>\n",
       "  </tbody>\n",
       "</table>\n",
       "</div>"
      ],
      "text/plain": [
       "                                            Headline\n",
       "0  बेकाबू भीड़, संकरी सीढ़ियां और आने-जाने का एक ...\n",
       "1  यूक्रेन में रूस ने गिराया 'महाबम', पश्चिमी देश...\n",
       "2  जगदीप धनखड़ ने उपराष्ट्रपति पद से क्यों दिया इ...\n",
       "3  'महुआ से निर्दलीय लड़ेंगे चुनाव', तेज प्रताप क...\n",
       "4  बच्चे के अंतिम संस्कार में टायरों का इस्तेमाल,..."
      ]
     },
     "execution_count": 17,
     "metadata": {},
     "output_type": "execute_result"
    }
   ],
   "source": [
    "import requests\n",
    "from bs4 import BeautifulSoup\n",
    "import pandas as pd\n",
    "\n",
    "url = \"https://www.aajtak.in/\"\n",
    "headers = {\"User-Agent\": \"Mozilla/5.0\"}\n",
    "response = requests.get(url, headers=headers)\n",
    "\n",
    "soup = BeautifulSoup(response.content, 'html.parser')\n",
    "\n",
    "headlines = []\n",
    "\n",
    "for tag in soup.find_all('h3'):\n",
    "    a_tag = tag.find('a')\n",
    "    if a_tag and a_tag.text.strip():\n",
    "        headlines.append(a_tag.text.strip())\n",
    "\n",
    "\n",
    "df = pd.DataFrame(headlines, columns=[\"Headline\"])\n",
    "df.to_csv(\"aajtak_headlines.csv\", index=False, encoding='utf-8-sig')\n",
    "\n",
    "print(f\"Total {len(df)} headlines saved to 'aajtak_headlines.csv'\")\n",
    "df.head()\n"
   ]
  },
  {
   "cell_type": "code",
   "execution_count": null,
   "id": "06ad62ea-a9f4-4588-9a4b-2e1122c46d61",
   "metadata": {},
   "outputs": [],
   "source": []
  }
 ],
 "metadata": {
  "kernelspec": {
   "display_name": "Python 3 (ipykernel)",
   "language": "python",
   "name": "python3"
  },
  "language_info": {
   "codemirror_mode": {
    "name": "ipython",
    "version": 3
   },
   "file_extension": ".py",
   "mimetype": "text/x-python",
   "name": "python",
   "nbconvert_exporter": "python",
   "pygments_lexer": "ipython3",
   "version": "3.12.9"
  }
 },
 "nbformat": 4,
 "nbformat_minor": 5
}
